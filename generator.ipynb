{
 "cells": [
  {
   "cell_type": "code",
   "execution_count": 1,
   "id": "c8c4c690",
   "metadata": {},
   "outputs": [],
   "source": [
    "import random as rd\n",
    "# Import package containing instance definition and generation procedures\n",
    "import instance as ic\n",
    "# Import package containing functions to evaluate and validate solutions\n",
    "import validation as vd"
   ]
  },
  {
   "cell_type": "code",
   "execution_count": 2,
   "id": "9203d243",
   "metadata": {},
   "outputs": [],
   "source": [
    "def generate_data(number_episodes,\n",
    "                  number_periods = 20,\n",
    "                  instance_keyword = '1toN',\n",
    "                  solution_algorithm = 'random',\n",
    "                  data_availability = 'simplest'):\n",
    "\n",
    "    # Verify if parameters have been already implemented\n",
    "    assert number_periods == 20\n",
    "    assert instance_keyword == '1toN'\n",
    "    assert solution_algorithm == 'random'\n",
    "    assert data_availability == 'simplest'\n",
    "\n",
    "    # Create instance based on the instance keyword\n",
    "    instance = ic.instance(instance_keyword)\n",
    "    instance.print_instance()\n",
    "\n",
    "    for episode in range(number_episodes):\n",
    "\n",
    "        # Create a completely random solution from scratch\n",
    "        rnd_solution = {}\n",
    "        for period in instance.periods:\n",
    "            # Select a random location for each period\n",
    "            rnd_solution[period] = rd.sample(instance.locations, 1)[0]\n",
    "\n",
    "        # Set file name to store outcome of the solution\n",
    "        filename = '{}_{}_{}_{}_{}.csv'.format(instance_keyword, number_periods, number_episodes, solution_algorithm, episode)\n",
    "        # Call a function that simulates the solution\n",
    "        vd.export_data(instance, rnd_solution, filename)"
   ]
  },
  {
   "cell_type": "code",
   "execution_count": 4,
   "id": "0c3aa7e9",
   "metadata": {},
   "outputs": [
    {
     "name": "stdout",
     "output_type": "stream",
     "text": [
      "Keyword: <1toN>\n",
      "Customers: ['1', '2', '3', '4', '5', '6', '7', '8', '9', '10']\n",
      "\t| j: a, b, g, d, l, u, s [M]\n",
      "\t| 1: 0.1, 2, 0.1, 4, 0, 1000000, 5 [1200006.0]\n",
      "\t| 2: 0.1, 3, 0.1, 6, 0, 1000000, 6 [1200009.0]\n",
      "\t| 3: 0.1, 1, 0.1, 2, 0, 1000000, 7 [1200003.0]\n",
      "\t| 4: 0.1, 4, 0.1, 1, 0, 1000000, 3 [1200005.0]\n",
      "\t| 5: 0.1, 2, 0.1, 1, 0, 1000000, 9 [1200003.0]\n",
      "\t| 6: 0.1, 4, 0.1, 2, 0, 1000000, 2 [1200006.0]\n",
      "\t| 7: 0.1, 2, 0.1, 6, 0, 1000000, 7 [1200008.0]\n",
      "\t| 8: 0.1, 1, 0.1, 1, 0, 1000000, 2 [1200002.0]\n",
      "\t| 9: 0.1, 3, 0.1, 2, 0, 1000000, 4 [1200005.0]\n",
      "\t| 10: 0.1, 4, 0.1, 1, 0, 1000000, 8 [1200005.0]\n",
      "Locations: ['1', '2', '3', '4', '5', '6', '7', '8', '9', '10']\n",
      "\t| 1 (1) : ['1', '2', '3', '5', '6', '7', '8', '9', '10']\n",
      "\t| 2 (1) : ['2', '4', '7', '9']\n",
      "\t| 3 (1) : ['2', '3', '4', '6', '7', '8', '10']\n",
      "\t| 4 (1) : ['1', '2', '4', '7', '9', '10']\n",
      "\t| 5 (1) : ['2', '5', '9']\n",
      "\t| 6 (1) : ['2', '3', '5', '6', '7', '9']\n",
      "\t| 7 (1) : ['1', '2', '4', '5', '7', '8']\n",
      "\t| 8 (1) : ['3', '4', '8']\n",
      "\t| 9 (1) : ['2', '3', '6', '7', '8', '9', '10']\n",
      "\t| 10 (1) : ['1', '3', '5', '6', '10']\n"
     ]
    }
   ],
   "source": [
    "# Generate training data\n",
    "generate_data(200) # 200 episodes"
   ]
  }
 ],
 "metadata": {
  "kernelspec": {
   "display_name": "Python 3 (ipykernel)",
   "language": "python",
   "name": "python3"
  },
  "language_info": {
   "codemirror_mode": {
    "name": "ipython",
    "version": 3
   },
   "file_extension": ".py",
   "mimetype": "text/x-python",
   "name": "python",
   "nbconvert_exporter": "python",
   "pygments_lexer": "ipython3",
   "version": "3.8.10"
  }
 },
 "nbformat": 4,
 "nbformat_minor": 5
}
